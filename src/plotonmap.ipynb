{
 "cells": [
  {
   "cell_type": "code",
   "execution_count": 1,
   "metadata": {},
   "outputs": [],
   "source": [
    "import numpy as np\n",
    "import pandas as pd\n",
    "import geopandas as gpd\n",
    "import matplotlib.pyplot as plt\n",
    "import os\n",
    "from dotenv import load_dotenv\n",
    "from az_table import query_entities_values"
   ]
  },
  {
   "cell_type": "code",
   "execution_count": 2,
   "metadata": {},
   "outputs": [],
   "source": [
    "# # # # # # #\n",
    "# Config    #\n",
    "# # # # # # #\n",
    "\n",
    "load_dotenv()\n",
    "connection_string = os.getenv(\"AZURE_TABLE_CONNECTION_STRING\")\n",
    "azure_table_name = os.getenv(\"AZURE_TABLE_NAME\")\n",
    "icao24 = os.getenv(\"ICAO24\")"
   ]
  },
  {
   "cell_type": "code",
   "execution_count": 3,
   "metadata": {},
   "outputs": [],
   "source": [
    "def get_stored_flight_data(icao24):\n",
    "    partition_key = str(\"'\"+icao24+\"'\")\n",
    "    filter = \"PartitionKey eq {}\".format(partition_key)\n",
    "    select = u\"PartitionKey, time, longitude, latitude, on_ground, geo_altitude\"\n",
    "    data = query_entities_values(connection_string=connection_string,table_name=azure_table_name, select=select, filter=filter)\n",
    "    return data"
   ]
  },
  {
   "cell_type": "code",
   "execution_count": 4,
   "metadata": {},
   "outputs": [],
   "source": [
    "def clean_and_sort(data):\n",
    "    lst = []\n",
    "    for item in data:\n",
    "        if item['time'] != None:\n",
    "            lst.append(item)\n",
    "        else:\n",
    "            pass\n",
    "    sorted_data = sorted(lst, key=lambda d: d['time'])\n",
    "    return sorted_data"
   ]
  },
  {
   "cell_type": "code",
   "execution_count": 5,
   "metadata": {},
   "outputs": [],
   "source": [
    "def transform_data(data):\n",
    "    #df = pd.DataFrame(data, columns=[\"PartitionKey\", \"time\", \"longitude\", \"latitude\", \"on_ground\", \"geo_altitude\"])\n",
    "    df = pd.DataFrame(data, columns=[\"longitude\", \"latitude\"])\n",
    "    df = df.drop_duplicates(subset=[\"longitude\", \"latitude\"], keep='last')\n",
    "    return df"
   ]
  },
  {
   "cell_type": "code",
   "execution_count": 6,
   "metadata": {},
   "outputs": [],
   "source": [
    "def plot(df):\n",
    "    BBox = (df.longitude.min(), df.longitude.max(), df.latitude.min(), df.latitude.max())\n",
    "    # initialize an axis\n",
    "    fig, ax = plt.subplots(figsize=(8,6))\n",
    "    # plot map on axis\n",
    "    countries = gpd.read_file(gpd.datasets.get_path(\"naturalearth_lowres\"))\n",
    "    countries[countries[\"name\"] == \"Sweden\"].plot(color=\"lightgrey\", ax=ax)\n",
    "    # plot points\n",
    "    df.plot(x=\"longitude\", y=\"latitude\", kind=\"scatter\", c=\"brightness\", colormap=\"YlOrRd\", title=f\"Flight\", ax=ax)\n",
    "    # add grid\n",
    "    ax.grid(b=True, alpha=0.5)\n",
    "    plt.show()"
   ]
  }
 ],
 "metadata": {
  "interpreter": {
   "hash": "9767cad58f3f800020a23985430863adbeb413c3ff85fe349493c0931cf07673"
  },
  "kernelspec": {
   "display_name": "Python 3.8.10 ('flight-demo-qbrG6_9S-py3.8')",
   "language": "python",
   "name": "python3"
  },
  "language_info": {
   "codemirror_mode": {
    "name": "ipython",
    "version": 3
   },
   "file_extension": ".py",
   "mimetype": "text/x-python",
   "name": "python",
   "nbconvert_exporter": "python",
   "pygments_lexer": "ipython3",
   "version": "3.8.10"
  },
  "orig_nbformat": 4
 },
 "nbformat": 4,
 "nbformat_minor": 2
}
